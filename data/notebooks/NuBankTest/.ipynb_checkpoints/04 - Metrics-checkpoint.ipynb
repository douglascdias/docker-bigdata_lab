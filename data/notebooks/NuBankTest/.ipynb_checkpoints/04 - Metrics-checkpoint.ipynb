{
 "cells": [
  {
   "cell_type": "code",
   "execution_count": 1,
   "id": "stable-douglas",
   "metadata": {},
   "outputs": [
    {
     "data": {
      "text/plain": [
       "Intitializing Scala interpreter ..."
      ]
     },
     "metadata": {},
     "output_type": "display_data"
    },
    {
     "data": {
      "text/plain": [
       "Spark Web UI available at http://8ea9f1e3afef:4040\n",
       "SparkContext available as 'sc' (version = 3.0.2, master = local[*], app id = local-1615748011742)\n",
       "SparkSession available as 'spark'\n"
      ]
     },
     "metadata": {},
     "output_type": "display_data"
    },
    {
     "data": {
      "text/plain": [
       "import java.io.File\n",
       "import org.apache.spark.sql.SparkSession\n",
       "import org.apache.spark.sql.hive.HiveContext\n",
       "hiveContext: org.apache.spark.sql.hive.HiveContext = org.apache.spark.sql.hive.HiveContext@209d5f51\n",
       "warehouseLocation: String = hdfs://namenode:8020/user/hive/warehouse\n",
       "data_base: String = db_nubank\n",
       "table: String = \"\"\n",
       "dir_path: String = hdfs://namenode:8020/user/hive/warehouse/db_nubank.db/\n",
       "db_table: String = db_nubank.\n",
       "res0: org.apache.spark.sql.DataFrame = []\n"
      ]
     },
     "execution_count": 1,
     "metadata": {},
     "output_type": "execute_result"
    }
   ],
   "source": [
    "import java.io.File\n",
    "import org.apache.spark.sql.SparkSession\n",
    "import org.apache.spark.sql.hive.HiveContext\n",
    "\n",
    "val hiveContext = new HiveContext(sc)\n",
    "val warehouseLocation = \"hdfs://namenode:8020/user/hive/warehouse\"\n",
    "val data_base = \"db_nubank\"\n",
    "var table = \"\"\n",
    "var dir_path = warehouseLocation + \"/\" + data_base + \".db/\" + table\n",
    "var db_table = data_base + \".\" + table\n",
    "\n",
    "spark.sql(\"use db_nubank\")"
   ]
  },
  {
   "cell_type": "code",
   "execution_count": 4,
   "id": "textile-powder",
   "metadata": {},
   "outputs": [
    {
     "name": "stdout",
     "output_type": "stream",
     "text": [
      "root\n",
      " |-- id: string (nullable = true)\n",
      " |-- account_id: string (nullable = true)\n",
      " |-- status: string (nullable = true)\n",
      " |-- amount: string (nullable = true)\n",
      " |-- action_timestamp: string (nullable = true)\n",
      " |-- action_month: string (nullable = true)\n",
      " |-- action_year: string (nullable = true)\n",
      " |-- flag_is_pix: string (nullable = true)\n",
      "\n",
      "root\n",
      " |-- account_id: string (nullable = true)\n",
      " |-- action_month: string (nullable = true)\n",
      " |-- action_year: string (nullable = true)\n",
      " |-- flag_is_pix: string (nullable = true)\n",
      "\n"
     ]
    },
    {
     "data": {
      "text/plain": [
       "df_transfer_union: org.apache.spark.sql.DataFrame = [id: string, account_id: string ... 6 more fields]\n",
       "df_transfer_union_distinct: org.apache.spark.sql.Dataset[org.apache.spark.sql.Row] = [account_id: string, action_month: string ... 2 more fields]\n"
      ]
     },
     "execution_count": 4,
     "metadata": {},
     "output_type": "execute_result"
    }
   ],
   "source": [
    "val df_transfer_union = spark.read.format(\"csv\").option(\"header\", \"true\").load(\"file:///dataset/nubank/out_transfer_union/part-00000-5bfcdad5-e389-4763-abd1-4439eb7b3d71-c000.csv\")\n",
    "df_transfer_union.createOrReplaceTempView(\"tmp_transfer_union\")\n",
    "df_transfer_union.printSchema()\n",
    "\n",
    "// val df_transfer_union_distinct = df_transfer_union.select(\"account_id\",\"action_month\",\"action_year\").where($\"flag_is_pix\" === 1).distinct()\n",
    "val df_transfer_union_distinct = df_transfer_union.select(\"account_id\",\"action_month\",\"action_year\",\"flag_is_pix\").distinct()\n",
    "df_transfer_union_distinct.createOrReplaceTempView(\"tmp_transfer_union_distinct\")\n",
    "df_transfer_union_distinct.printSchema()"
   ]
  },
  {
   "cell_type": "code",
   "execution_count": 5,
   "id": "secondary-summary",
   "metadata": {},
   "outputs": [
    {
     "name": "stdout",
     "output_type": "stream",
     "text": [
      "+-----------+------------+-----------------------+\n",
      "|action_year|action_month|number_new_pix_transfer|\n",
      "+-----------+------------+-----------------------+\n",
      "|2020       |1           |3604                   |\n",
      "|2020       |2           |191                    |\n",
      "|2020       |3           |78                     |\n",
      "|2020       |4           |33                     |\n",
      "|2020       |5           |31                     |\n",
      "|2020       |6           |13                     |\n",
      "|2020       |7           |8                      |\n",
      "|2020       |8           |7                      |\n",
      "|2020       |9           |6                      |\n",
      "|2020       |10          |4                      |\n",
      "|2020       |11          |1                      |\n",
      "|2020       |12          |2                      |\n",
      "+-----------+------------+-----------------------+\n",
      "\n",
      "+-----------+------------+-----------+------------+\n",
      "|action_year|action_month|flag_is_pix|number_trans|\n",
      "+-----------+------------+-----------+------------+\n",
      "|2020       |1           |0          |20192       |\n",
      "|2020       |1           |1          |20247       |\n",
      "|2020       |2           |0          |18878       |\n",
      "|2020       |2           |1          |18702       |\n",
      "|2020       |3           |0          |20203       |\n",
      "|2020       |3           |1          |20044       |\n",
      "|2020       |4           |1          |19617       |\n",
      "|2020       |4           |0          |19572       |\n",
      "|2020       |5           |1          |20063       |\n",
      "|2020       |5           |0          |20433       |\n",
      "|2020       |6           |0          |19621       |\n",
      "|2020       |6           |1          |19579       |\n",
      "|2020       |7           |1          |20244       |\n",
      "|2020       |7           |0          |20283       |\n",
      "|2020       |8           |0          |20388       |\n",
      "|2020       |8           |1          |20203       |\n",
      "|2020       |9           |0          |19692       |\n",
      "|2020       |9           |1          |19550       |\n",
      "|2020       |10          |1          |20119       |\n",
      "|2020       |10          |0          |20171       |\n",
      "+-----------+------------+-----------+------------+\n",
      "only showing top 20 rows\n",
      "\n",
      "+-----------+------------+-----------+--------------+---------------+\n",
      "|action_year|action_month|flag_is_pix|value_trans_in|value_trans_out|\n",
      "+-----------+------------+-----------+--------------+---------------+\n",
      "|2020       |1           |1          |1.008910707E7 |-1.007698183E7 |\n",
      "|2020       |1           |0          |1.014921669E7 |-1.003352182E7 |\n",
      "|2020       |2           |1          |9316321.16    |-9419401.58    |\n",
      "|2020       |2           |0          |9521759.04    |-9377647.81    |\n",
      "|2020       |3           |0          |1.02288407E7  |-1.010037799E7 |\n",
      "|2020       |3           |1          |9983029.92    |-1.01818131E7  |\n",
      "|2020       |4           |0          |9820680.16    |-9715415.53    |\n",
      "|2020       |4           |1          |9763513.6     |-9809649.78    |\n",
      "|2020       |5           |0          |1.003665278E7 |-1.041122139E7 |\n",
      "|2020       |5           |1          |9958232.57    |-1.000284129E7 |\n",
      "|2020       |6           |1          |9756919.55    |-9882036.8     |\n",
      "|2020       |6           |0          |9724071.56    |-9786307.77    |\n",
      "|2020       |7           |0          |9965762.64    |-1.038331368E7 |\n",
      "|2020       |7           |1          |1.022150896E7 |-9923928.89    |\n",
      "|2020       |8           |1          |1.031927092E7 |-9975195.9     |\n",
      "|2020       |8           |0          |1.012088881E7 |-1.033778242E7 |\n",
      "|2020       |9           |1          |9791918.32    |-9756092.38    |\n",
      "|2020       |9           |0          |9825125.17    |-9849641.77    |\n",
      "|2020       |10          |0          |1.014790377E7 |-1.005110026E7 |\n",
      "|2020       |10          |1          |1.007737342E7 |-9918138.71    |\n",
      "+-----------+------------+-----------+--------------+---------------+\n",
      "only showing top 20 rows\n",
      "\n"
     ]
    },
    {
     "data": {
      "text/plain": [
       "sql_pix_client: String =\n",
       "select t1.action_year,t1.action_month,count(1) number_new_pix_transfer\n",
       "from tmp_transfer_union_distinct t1\n",
       "where not exists (select 1\n",
       "                  from tmp_transfer_union_distinct t2\n",
       "                  where t2.account_id = t1.account_id\n",
       "                  and t2.flag_is_pix = t1.flag_is_pix\n",
       "                  and concat(cast(t2.action_year as string),lpad(cast(t2.action_month as string),2,'0'))\n",
       "                        < concat(cast(t1.action_year as string),lpad(cast(t1.action_month as string),2,'0'))\n",
       "                  )\n",
       "and flag_is_pix = 1\n",
       "group by t1.action_year,t1.action_month\n",
       "order by cast(t1.action_year as int),cast(t1.action_month as int)\n",
       "sql_number_trans: String =\n",
       "select action_year\n",
       ",action_month\n",
       ",flag_is_pix\n",
       ",count(1) number_trans\n",
       "from  transfer_union...\n"
      ]
     },
     "execution_count": 5,
     "metadata": {},
     "output_type": "execute_result"
    }
   ],
   "source": [
    "val sql_pix_client = \"\"\"select t1.action_year,t1.action_month,count(1) number_new_pix_transfer\n",
    "from tmp_transfer_union_distinct t1\n",
    "where not exists (select 1 \n",
    "                  from tmp_transfer_union_distinct t2\n",
    "                  where t2.account_id = t1.account_id \n",
    "                  and t2.flag_is_pix = t1.flag_is_pix\n",
    "                  and concat(cast(t2.action_year as string),lpad(cast(t2.action_month as string),2,'0'))  \n",
    "                        < concat(cast(t1.action_year as string),lpad(cast(t1.action_month as string),2,'0')) \n",
    "                  )\n",
    "and flag_is_pix = 1                  \n",
    "group by t1.action_year,t1.action_month\n",
    "order by cast(t1.action_year as int),cast(t1.action_month as int)\"\"\"\n",
    "\n",
    "val sql_no_pix_client = \"\"\"select t1.action_year,t1.action_month,count(1) number_new_pix_transfer\n",
    "from tmp_transfer_union_distinct t1\n",
    "where not exists (select 1 \n",
    "                  from tmp_transfer_union_distinct t2\n",
    "                  where t2.account_id = t1.account_id \n",
    "                  and t2.flag_is_pix = t1.flag_is_pix\n",
    "                  and concat(cast(t2.action_year as string),lpad(cast(t2.action_month as string),2,'0'))  \n",
    "                        =< concat(cast(t1.action_year as string),lpad(cast(t1.action_month as string),2,'0')) \n",
    "                  )\n",
    "and flag_is_pix = 1                  \n",
    "group by t1.action_year,t1.action_month\n",
    "order by cast(t1.action_year as int),cast(t1.action_month as int)\"\"\"\n",
    "\n",
    "\n",
    "val sql_number_trans = \"\"\"select action_year\n",
    ",action_month\n",
    ",flag_is_pix\n",
    ",count(1) number_trans \n",
    "from  transfer_union\n",
    "group by action_year,action_month,flag_is_pix\n",
    "order by action_year,action_month\"\"\"\n",
    "\n",
    "val sql_value_trans = \"\"\"select action_year\n",
    ",action_month\n",
    ",flag_is_pix\n",
    ",round(sum(case when amount > 0 then amount else 0 end),2) value_trans_in\n",
    ",round(sum(case when amount < 0 then amount else 0 end),2) value_trans_out \n",
    "from  transfer_union\n",
    "group by action_year,action_month,flag_is_pix\n",
    "order by action_year,action_month\"\"\"\n",
    "\n",
    "val df_pix_client = spark.sql(sql_pix_client)\n",
    "val df_no_pix_client = spark.sql(sql_no_pix_client)\n",
    "val df_number_trans = spark.sql(sql_number_trans)\n",
    "val df_value_trans = spark.sql(sql_value_trans)\n",
    "\n",
    "df_pix_client.show(false)\n",
    "df_no_pix_client.show(false)\n",
    "// df_number_trans.show(false)\n",
    "// df_value_trans.show(false)"
   ]
  }
 ],
 "metadata": {
  "kernelspec": {
   "display_name": "spylon-kernel",
   "language": "scala",
   "name": "spylon-kernel"
  },
  "language_info": {
   "codemirror_mode": "text/x-scala",
   "file_extension": ".scala",
   "help_links": [
    {
     "text": "MetaKernel Magics",
     "url": "https://metakernel.readthedocs.io/en/latest/source/README.html"
    }
   ],
   "mimetype": "text/x-scala",
   "name": "scala",
   "pygments_lexer": "scala",
   "version": "0.4.1"
  }
 },
 "nbformat": 4,
 "nbformat_minor": 5
}
