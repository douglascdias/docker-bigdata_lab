{
 "cells": [
  {
   "cell_type": "code",
   "execution_count": 1,
   "id": "crazy-leone",
   "metadata": {},
   "outputs": [
    {
     "data": {
      "text/plain": [
       "Intitializing Scala interpreter ..."
      ]
     },
     "metadata": {},
     "output_type": "display_data"
    },
    {
     "data": {
      "text/plain": [
       "Spark Web UI available at http://2a03b9dad4f2:4040\n",
       "SparkContext available as 'sc' (version = 3.0.2, master = local[*], app id = local-1615077884110)\n",
       "SparkSession available as 'spark'\n"
      ]
     },
     "metadata": {},
     "output_type": "display_data"
    },
    {
     "name": "stdout",
     "output_type": "stream",
     "text": [
      "hdfs://namenode:8020/user/hive/warehouse/_SUCCESS\n",
      "hdfs://namenode:8020/user/hive/warehouse/db_nubank.db\n",
      "hdfs://namenode:8020/user/hive/warehouse/part-00000-27f93336-fb71-4edd-953e-759f5e5e4dfa-c000.snappy.parquet\n",
      "+---------+\n",
      "|namespace|\n",
      "+---------+\n",
      "|   db_hue|\n",
      "| db_hue21|\n",
      "|db_nubank|\n",
      "|  default|\n",
      "+---------+\n",
      "\n"
     ]
    },
    {
     "data": {
      "text/plain": [
       "import org.apache.spark.sql.hive.HiveContext\n",
       "import org.apache.spark.sql.SparkSession\n",
       "import org.apache.hadoop.fs._\n",
       "hiveContext: org.apache.spark.sql.hive.HiveContext = org.apache.spark.sql.hive.HiveContext@71812149\n",
       "conf: org.apache.hadoop.conf.Configuration = Configuration: core-default.xml, core-site.xml, mapred-default.xml, mapred-site.xml, yarn-default.xml, yarn-site.xml, hdfs-default.xml, hdfs-site.xml\n",
       "fs: org.apache.hadoop.fs.FileSystem = DFS[DFSClient[clientName=DFSClient_NONMAPREDUCE_-1626800243_17, ugi=jovyan (auth:SIMPLE)]]\n",
       "status: Array[org.apache.hadoop.fs.FileStatus] = Array(HdfsNamedFileStatus{path=hdfs://namenode:8020/user/hive/warehouse/_SUCCESS; isDirectory=false; length=0; replication=3; blocksize=134217728; modification_time=1615053162370; access_time=1615053162367; o...\n"
      ]
     },
     "execution_count": 1,
     "metadata": {},
     "output_type": "execute_result"
    }
   ],
   "source": [
    "import org.apache.spark.sql.hive.HiveContext\n",
    "import org.apache.spark.sql.SparkSession\n",
    "import org.apache.hadoop.fs._\n",
    "val hiveContext = new HiveContext(sc)\n",
    "\n",
    "val conf = new org.apache.hadoop.conf.Configuration()\n",
    "conf.set(\"fs.defaultFS\", \"hdfs://namenode:8020\")\n",
    "\n",
    "val fs= FileSystem.get(conf)\n",
    "val status = fs.listStatus(new Path(\"/user/hive/warehouse/\"))\n",
    "status.foreach(x=> println(x.getPath))\n",
    "\n",
    "\n",
    "spark.sql(\"show databases\").show()"
   ]
  },
  {
   "cell_type": "code",
   "execution_count": 2,
   "id": "uniform-example",
   "metadata": {},
   "outputs": [
    {
     "name": "stdout",
     "output_type": "stream",
     "text": [
      "(spark.driver.port,35173)\n",
      "(spark.driver.memory,1G)\n",
      "(spark.app.id,local-1615077884110)\n",
      "(spark.app.startTime,1615077881966)\n",
      "(spark.executor.id,driver)\n",
      "(spark.app.name,spylon-kernel)\n",
      "(spark.repl.class.outputDir,/tmp/tmpcv6fly7c)\n",
      "(spark.driver.host,2a03b9dad4f2)\n",
      "(spark.sql.catalogImplementation,hive)\n",
      "(spark.rdd.compress,True)\n",
      "(spark.serializer.objectStreamReset,100)\n",
      "(spark.master,local[*])\n",
      "(spark.submit.pyFiles,)\n",
      "(spark.submit.deployMode,client)\n",
      "(spark.repl.class.uri,spark://2a03b9dad4f2:35173/classes)\n",
      "(spark.sql.warehouse.dir,hdfs://namenode:8020/user/hive/warehouse)\n",
      "(spark.ui.showConsoleProgress,true)\n"
     ]
    }
   ],
   "source": [
    "println(sc.getConf.getAll.deep.mkString(\"\\n\"));"
   ]
  }
 ],
 "metadata": {
  "kernelspec": {
   "display_name": "spylon-kernel",
   "language": "scala",
   "name": "spylon-kernel"
  },
  "language_info": {
   "codemirror_mode": "text/x-scala",
   "file_extension": ".scala",
   "help_links": [
    {
     "text": "MetaKernel Magics",
     "url": "https://metakernel.readthedocs.io/en/latest/source/README.html"
    }
   ],
   "mimetype": "text/x-scala",
   "name": "scala",
   "pygments_lexer": "scala",
   "version": "0.4.1"
  }
 },
 "nbformat": 4,
 "nbformat_minor": 5
}
